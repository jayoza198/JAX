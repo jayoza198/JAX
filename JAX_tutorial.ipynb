{
  "nbformat": 4,
  "nbformat_minor": 0,
  "metadata": {
    "colab": {
      "provenance": [],
      "gpuType": "T4"
    },
    "kernelspec": {
      "name": "python3",
      "display_name": "Python 3"
    },
    "language_info": {
      "name": "python"
    },
    "accelerator": "GPU",
    "gpuClass": "standard"
  },
  "cells": [
    {
      "cell_type": "markdown",
      "source": [
        "# This File is created to understand the JAX"
      ],
      "metadata": {
        "id": "UIGewHCGHKBB"
      }
    },
    {
      "cell_type": "code",
      "source": [
        "!pip install jax"
      ],
      "metadata": {
        "colab": {
          "base_uri": "https://localhost:8080/"
        },
        "id": "UcdjMMBEHX9o",
        "outputId": "027e0684-ed9d-4437-c2e7-7f2096d9636a"
      },
      "execution_count": 1,
      "outputs": [
        {
          "output_type": "stream",
          "name": "stdout",
          "text": [
            "Looking in indexes: https://pypi.org/simple, https://us-python.pkg.dev/colab-wheels/public/simple/\n",
            "Requirement already satisfied: jax in /usr/local/lib/python3.10/dist-packages (0.4.8)\n",
            "Requirement already satisfied: ml-dtypes>=0.0.3 in /usr/local/lib/python3.10/dist-packages (from jax) (0.1.0)\n",
            "Requirement already satisfied: numpy>=1.21 in /usr/local/lib/python3.10/dist-packages (from jax) (1.22.4)\n",
            "Requirement already satisfied: opt-einsum in /usr/local/lib/python3.10/dist-packages (from jax) (3.3.0)\n",
            "Requirement already satisfied: scipy>=1.7 in /usr/local/lib/python3.10/dist-packages (from jax) (1.10.1)\n"
          ]
        }
      ]
    },
    {
      "cell_type": "markdown",
      "source": [
        "# Simple Function using JAX"
      ],
      "metadata": {
        "id": "zuH5EWL4HGNN"
      }
    },
    {
      "cell_type": "code",
      "execution_count": 2,
      "metadata": {
        "colab": {
          "base_uri": "https://localhost:8080/"
        },
        "id": "Toh5DHnuHETv",
        "outputId": "9d6f3d62-c58c-4c38-a991-87c38f49f35d"
      },
      "outputs": [
        {
          "output_type": "stream",
          "name": "stderr",
          "text": [
            "WARNING:jax._src.xla_bridge:No GPU/TPU found, falling back to CPU. (Set TF_CPP_MIN_LOG_LEVEL=0 and rerun for more info.)\n"
          ]
        },
        {
          "output_type": "stream",
          "name": "stdout",
          "text": [
            "[ 1.          1.0614105   1.1185472   1.17118     1.2190967   1.2621045\n",
            "  1.3000304   1.3327215   1.3600461   1.3818944   1.3981782   1.4088321\n",
            "  1.4138131   1.4131011   1.4066992   1.3946328   1.3769509   1.3537245\n",
            "  1.325047    1.2910341   1.2518226   1.2075704   1.158456    1.1046767\n",
            "  1.0464492   0.9840081   0.91760474  0.8475066   0.77399576  0.69736826\n",
            "  0.6179329   0.5360092   0.45192713  0.36602533  0.27864963  0.19015199\n",
            "  0.10088861  0.01121938 -0.07849538 -0.16789412 -0.25661677 -0.3443061\n",
            " -0.43060905 -0.5151781  -0.5976724  -0.67776036 -0.7551192  -0.8294375\n",
            " -0.90041596 -0.96776867 -1.0312246  -1.090528   -1.1454405  -1.1957402\n",
            " -1.2412255  -1.2817128  -1.317039   -1.347062   -1.3716608  -1.3907366\n",
            " -1.404212   -1.4120334  -1.4141691  -1.4106103  -1.4013715  -1.3864899\n",
            " -1.3660253  -1.3400604  -1.3086994  -1.2720686  -1.2303158  -1.1836089\n",
            " -1.132136   -1.0761049  -1.0157402  -0.9512855  -0.8830004  -0.8111596\n",
            " -0.73605263 -0.6579818  -0.57726157 -0.49421686 -0.4091821  -0.32249975\n",
            " -0.23451877 -0.14559352 -0.05608195  0.03365546  0.12325656  0.21236217\n",
            "  0.30061257  0.38765255  0.47313157  0.5567055   0.6380377   0.7168008\n",
            "  0.7926775   0.86536247  0.9345629   1.0000001 ]\n"
          ]
        }
      ],
      "source": [
        "import jax\n",
        "import jax.numpy as jnp\n",
        "\n",
        "# Define a simple function\n",
        "def my_function(x):\n",
        "    return jnp.sin(x) + jnp.cos(x)\n",
        "\n",
        "# Generate an input array\n",
        "x = jnp.linspace(0.0, 2 * jnp.pi, 100)\n",
        "\n",
        "# Compute the function using JAX\n",
        "y = my_function(x)\n",
        "\n",
        "# Print the result\n",
        "print(y)\n"
      ]
    },
    {
      "cell_type": "markdown",
      "source": [
        "# Automatic Differentiation with JAX"
      ],
      "metadata": {
        "id": "eFg5tSumHlnS"
      }
    },
    {
      "cell_type": "code",
      "source": [
        "import jax\n",
        "import jax.numpy as jnp\n",
        "\n",
        "# Define a function\n",
        "def my_function(x):\n",
        "    return jnp.sin(x) + jnp.cos(x)\n",
        "\n",
        "# Compute the gradient of the function using JAX's automatic differentiation\n",
        "grad_fn = jax.grad(my_function)\n",
        "x = 1.0\n",
        "gradient = grad_fn(x)\n",
        "\n",
        "print(gradient)"
      ],
      "metadata": {
        "colab": {
          "base_uri": "https://localhost:8080/"
        },
        "id": "wa308oljHIVL",
        "outputId": "0477bdaf-da92-455b-8f25-b14e992111e9"
      },
      "execution_count": 3,
      "outputs": [
        {
          "output_type": "stream",
          "name": "stdout",
          "text": [
            "-0.30116868\n"
          ]
        }
      ]
    },
    {
      "cell_type": "markdown",
      "source": [
        "# JIT Compilation"
      ],
      "metadata": {
        "id": "JDZwq9YPHrcG"
      }
    },
    {
      "cell_type": "code",
      "source": [
        "import jax\n",
        "import jax.numpy as jnp\n",
        "\n",
        "# Define a function\n",
        "def my_function(x):\n",
        "    return jnp.sin(x) + jnp.cos(x)\n",
        "\n",
        "# Compile the function using JIT\n",
        "compiled_fn = jax.jit(my_function)\n",
        "\n",
        "# Execute the compiled function\n",
        "x = jnp.linspace(0.0, 2 * jnp.pi, 100)\n",
        "result = compiled_fn(x)\n",
        "\n",
        "print(result)\n"
      ],
      "metadata": {
        "colab": {
          "base_uri": "https://localhost:8080/"
        },
        "id": "Lnf-YrR8Hqke",
        "outputId": "bf3136a9-4970-43d8-c796-60e20a0157b5"
      },
      "execution_count": 4,
      "outputs": [
        {
          "output_type": "stream",
          "name": "stdout",
          "text": [
            "[ 1.          1.0614105   1.1185472   1.17118     1.2190967   1.2621045\n",
            "  1.3000304   1.3327215   1.3600461   1.3818944   1.3981782   1.4088321\n",
            "  1.4138131   1.4131011   1.4066992   1.3946328   1.3769509   1.3537245\n",
            "  1.325047    1.2910341   1.2518226   1.2075704   1.158456    1.1046767\n",
            "  1.0464492   0.9840081   0.91760474  0.8475066   0.77399576  0.69736826\n",
            "  0.6179329   0.5360092   0.45192713  0.36602533  0.27864963  0.19015199\n",
            "  0.10088861  0.01121938 -0.07849538 -0.16789412 -0.25661677 -0.3443061\n",
            " -0.43060905 -0.5151781  -0.5976724  -0.67776036 -0.7551192  -0.8294375\n",
            " -0.90041596 -0.96776867 -1.0312246  -1.090528   -1.1454405  -1.1957402\n",
            " -1.2412255  -1.2817128  -1.317039   -1.347062   -1.3716608  -1.3907366\n",
            " -1.404212   -1.4120334  -1.4141691  -1.4106103  -1.4013715  -1.3864899\n",
            " -1.3660253  -1.3400604  -1.3086994  -1.2720686  -1.2303158  -1.1836089\n",
            " -1.132136   -1.0761049  -1.0157402  -0.9512855  -0.8830004  -0.8111596\n",
            " -0.73605263 -0.6579818  -0.57726157 -0.49421686 -0.4091821  -0.32249975\n",
            " -0.23451877 -0.14559352 -0.05608195  0.03365546  0.12325656  0.21236217\n",
            "  0.30061257  0.38765255  0.47313157  0.5567055   0.6380377   0.7168008\n",
            "  0.7926775   0.86536247  0.9345629   1.0000001 ]\n"
          ]
        }
      ]
    },
    {
      "cell_type": "markdown",
      "source": [
        "# GPU Acceleration"
      ],
      "metadata": {
        "id": "hRhaOJ7kHv2l"
      }
    },
    {
      "cell_type": "code",
      "source": [
        "import jax\n",
        "import jax.numpy as jnp\n",
        "\n",
        "# Enable GPU acceleration\n",
        "jax.config.update(\"jax_platform_name\", \"gpu\")\n",
        "\n",
        "# Define a function\n",
        "def my_function(x):\n",
        "    return jnp.sin(x) + jnp.cos(x)\n",
        "\n",
        "# Move the function to the GPU\n",
        "my_function_gpu = jax.jit(my_function)\n",
        "\n",
        "# Generate input on the GPU\n",
        "x_gpu = jnp.linspace(0.0, 2 * jnp.pi, 100)\n",
        "x_gpu = jnp.array(x_gpu, dtype=jnp.float32)\n",
        "\n",
        "# Execute the function on the GPU\n",
        "result_gpu = my_function_gpu(x_gpu)\n",
        "\n",
        "print(result_gpu)\n"
      ],
      "metadata": {
        "colab": {
          "base_uri": "https://localhost:8080/"
        },
        "id": "lS4Ht9nYHvWZ",
        "outputId": "e3bd7f8d-2ca9-4084-b1bc-60d85e01ea3d"
      },
      "execution_count": 2,
      "outputs": [
        {
          "output_type": "stream",
          "name": "stdout",
          "text": [
            "[ 1.          1.0614105   1.1185472   1.17118     1.2190967   1.2621045\n",
            "  1.3000304   1.3327215   1.3600461   1.3818944   1.3981782   1.4088321\n",
            "  1.4138131   1.4131012   1.4066992   1.3946328   1.376951    1.3537245\n",
            "  1.325047    1.2910341   1.2518226   1.2075704   1.158456    1.1046767\n",
            "  1.0464492   0.9840081   0.91760474  0.8475066   0.77399576  0.69736826\n",
            "  0.6179329   0.5360092   0.45192716  0.36602533  0.2786497   0.19015193\n",
            "  0.10088861  0.01121938 -0.07849532 -0.16789412 -0.2566167  -0.34430605\n",
            " -0.43060905 -0.5151781  -0.5976724  -0.67776036 -0.7551192  -0.82943755\n",
            " -0.90041596 -0.96776867 -1.0312246  -1.090528   -1.1454405  -1.1957402\n",
            " -1.2412255  -1.2817128  -1.317039   -1.347062   -1.371661   -1.3907366\n",
            " -1.4042121  -1.4120336  -1.4141691  -1.4106103  -1.4013715  -1.3864899\n",
            " -1.3660253  -1.3400604  -1.3086994  -1.2720686  -1.2303158  -1.1836089\n",
            " -1.132136   -1.0761049  -1.0157402  -0.9512855  -0.8830003  -0.81115955\n",
            " -0.73605263 -0.6579819  -0.57726157 -0.4942169  -0.40918216 -0.32249975\n",
            " -0.23451877 -0.14559352 -0.05608195  0.03365546  0.12325662  0.21236217\n",
            "  0.30061263  0.38765255  0.47313157  0.5567055   0.63803774  0.7168008\n",
            "  0.7926775   0.86536247  0.9345629   1.0000001 ]\n"
          ]
        }
      ]
    },
    {
      "cell_type": "markdown",
      "source": [
        "# Vectorization in JAX"
      ],
      "metadata": {
        "id": "lt5wrJNUIawd"
      }
    },
    {
      "cell_type": "code",
      "source": [
        "import jax\n",
        "import jax.numpy as jnp\n",
        "\n",
        "# Define a function\n",
        "def elementwise_multiply(x, y):\n",
        "    return x * y\n",
        "\n",
        "# Vectorize the function using `jax.vmap`\n",
        "vectorized_fn = jax.vmap(elementwise_multiply)\n",
        "\n",
        "# Generate input arrays\n",
        "x = jnp.array([1, 2, 3])\n",
        "y = jnp.array([4, 5, 6])\n",
        "\n",
        "# Apply the vectorized function to the inputs\n",
        "result = vectorized_fn(x, y)\n",
        "\n",
        "print(result)\n"
      ],
      "metadata": {
        "colab": {
          "base_uri": "https://localhost:8080/"
        },
        "id": "DD-Ixr_1IcPp",
        "outputId": "75fcb737-e397-46c9-bdbf-4d172e68c159"
      },
      "execution_count": 3,
      "outputs": [
        {
          "output_type": "stream",
          "name": "stdout",
          "text": [
            "[ 4 10 18]\n"
          ]
        }
      ]
    },
    {
      "cell_type": "markdown",
      "source": [
        "# Parallelization in JAX"
      ],
      "metadata": {
        "id": "5HZk8YK-Ifrb"
      }
    },
    {
      "cell_type": "code",
      "source": [
        "import jax\n",
        "import jax.numpy as jnp\n",
        "\n",
        "# Define a function\n",
        "def elementwise_multiply(x, y):\n",
        "    return x * y\n",
        "\n",
        "# Vectorize the function using `jax.vmap`\n",
        "vectorized_fn = jax.vmap(elementwise_multiply)\n",
        "\n",
        "# Generate input arrays\n",
        "x = jnp.array([1, 2, 3])\n",
        "y = jnp.array([4, 5, 6])\n",
        "\n",
        "# Apply the vectorized function to the inputs\n",
        "result = vectorized_fn(x, y)\n",
        "\n",
        "print(result)\n"
      ],
      "metadata": {
        "colab": {
          "base_uri": "https://localhost:8080/"
        },
        "id": "iVLVEZwmIeAC",
        "outputId": "305a005a-3939-43b1-afc6-2fc4ac564dd5"
      },
      "execution_count": 8,
      "outputs": [
        {
          "output_type": "stream",
          "name": "stdout",
          "text": [
            "[ 4 10 18]\n"
          ]
        }
      ]
    },
    {
      "cell_type": "markdown",
      "source": [
        "# Solving a Linear System"
      ],
      "metadata": {
        "id": "cBAaDhzjIp1b"
      }
    },
    {
      "cell_type": "code",
      "source": [
        "import jax\n",
        "import jax.numpy as jnp\n",
        "from jax.scipy.linalg import solve\n",
        "\n",
        "# Define a coefficient matrix and a vector\n",
        "A = jnp.array([[2, 1], [1, 3]])\n",
        "b = jnp.array([1, 2])\n",
        "\n",
        "# Solve the linear system using `jax.scipy.linalg.solve`\n",
        "x = solve(A, b)\n",
        "\n",
        "print(x)\n"
      ],
      "metadata": {
        "colab": {
          "base_uri": "https://localhost:8080/"
        },
        "id": "ohX5TNy-IjK8",
        "outputId": "721ca553-5851-48b7-c731-df767fd0cb67"
      },
      "execution_count": 5,
      "outputs": [
        {
          "output_type": "stream",
          "name": "stdout",
          "text": [
            "[0.19999999 0.6       ]\n"
          ]
        }
      ]
    },
    {
      "cell_type": "code",
      "source": [],
      "metadata": {
        "id": "CkjvkwHZIskC"
      },
      "execution_count": null,
      "outputs": []
    }
  ]
}